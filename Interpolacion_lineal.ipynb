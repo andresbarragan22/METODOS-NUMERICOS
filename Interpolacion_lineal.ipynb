{
 "cells": [
  {
   "cell_type": "code",
   "execution_count": 4,
   "metadata": {
    "collapsed": true
   },
   "outputs": [],
   "source": [
    "import math\n",
    "import matplotlib.pyplot as plt\n",
    "import numpy as np\n",
    "\n",
    "\n",
    "f = lambda x: math.log(x)\n",
    "\n",
    "\n",
    "def m(x0, x1):\n",
    "    fx0 = f(x0)\n",
    "    fx1 = f(x1)\n",
    "\n",
    "    return (fx1 - fx0) / (x1 - x0)\n",
    "\n",
    "def interpol(x0, x1, x):\n",
    "    fx0 = f(x0)\n",
    "    fx1 = f(x1)\n",
    "\n",
    "    fx = fx0 + m(x0,x1) * (x - x0)\n",
    "\n",
    "    return fx\n",
    "\n",
    "\n",
    "x = range(1,7)        \n",
    "fx = []\n",
    "v_interpol = []\n",
    "v_ep = np.arange(1,6,0.1)\n",
    "fep = []        \n",
    "\n",
    "for xi in x:\n",
    "    fx.append(f(xi))\n",
    "    v_interpol.append(interpol(xi, xi+1, xi))\n",
    "\n",
    "for i in v_ep:\n",
    "    fep.append(f(i))\n",
    "\n",
    "plt.figure(u\"Gráfica Interpolación Lineal\")\n",
    "plt.title(u\"Interpolación Ln x\", fontweight=\"bold\")\n",
    "plt.plot(x,fx, \"ro\", label= \"Ln(x) Discreto\")        \n",
    "plt.plot(x,v_interpol, label=u\"Interpolación Lineal\", lw=1.5)          \n",
    "plt.plot(v_ep,fep, label=u\"Ln(x) Original\", lw=1.5)\n",
    "plt.legend(loc=4)\n",
    "plt.margins(y=.1, x=.1)\n",
    "plt.grid(True)\n",
    "plt.show()"
   ]
  },
  {
   "cell_type": "code",
   "execution_count": null,
   "metadata": {
    "collapsed": true
   },
   "outputs": [],
   "source": []
  }
 ],
 "metadata": {
  "kernelspec": {
   "display_name": "Python 2",
   "language": "python",
   "name": "python2"
  },
  "language_info": {
   "codemirror_mode": {
    "name": "ipython",
    "version": 2
   },
   "file_extension": ".py",
   "mimetype": "text/x-python",
   "name": "python",
   "nbconvert_exporter": "python",
   "pygments_lexer": "ipython2",
   "version": "2.7.11"
  }
 },
 "nbformat": 4,
 "nbformat_minor": 0
}
