{
 "cells": [
  {
   "cell_type": "code",
   "execution_count": 3,
   "metadata": {
    "collapsed": false
   },
   "outputs": [
    {
     "name": "stdout",
     "output_type": "stream",
     "text": [
      "INGRESE # DE CIFRAS SIGNIFICATIVAS 5\n",
      "\n",
      "ERROR TOLERADO:  0.0005 %\n",
      "TIEMPO |SOLUCION ANALITICA | SOLUCION APROXIMADA | ERROR VERDADERO | ERROR RELATIVO % APROX.\n",
      "  0    |  0.000000         |   0.000000          |   0.000000      |   0.000000 \n",
      "  2    | 16.404981         |  19.600000          |   3.195019      | 100.000000 \n",
      "  4    | 27.769291         |  32.004699          |   4.235408      |  38.758993 \n",
      "  6    | 35.641752         |  39.855544          |   4.213792      |  19.698250 \n",
      "  8    | 41.095283         |  44.824287          |   3.729004      |  11.084935 \n",
      " 10    | 44.873138         |  47.968969          |   3.095831      |   6.555659 \n",
      " 12    | 47.490191         |  49.959215          |   2.469024      |   3.983742 \n",
      " 14    | 49.303116         |  51.218828          |   1.915711      |   2.459277 \n",
      " 16    | 50.558994         |  52.016028          |   1.457034      |   1.532604 \n",
      " 18    | 51.428985         |  52.520570          |   1.091585      |   0.960656 \n",
      " 20    | 52.031658         |  52.839891          |   0.808232      |   0.604318 \n",
      " 22    | 52.449152         |  53.041987          |   0.592835      |   0.381011 \n",
      " 24    | 52.738364         |  53.169892          |   0.431528      |   0.240559 \n",
      " 26    | 52.938712         |  53.250842          |   0.312130      |   0.152017 \n",
      " 28    | 53.077499         |  53.302075          |   0.224575      |   0.096118 \n",
      " 30    | 53.173643         |  53.334500          |   0.160857      |   0.060795 \n",
      " 32    | 53.240245         |  53.355021          |   0.114776      |   0.038462 \n",
      " 34    | 53.286382         |  53.368009          |   0.081627      |   0.024336 \n",
      " 36    | 53.318343         |  53.376229          |   0.057886      |   0.015400 \n",
      " 38    | 53.340484         |  53.381431          |   0.040948      |   0.009746 \n",
      " 40    | 53.355821         |  53.384724          |   0.028903      |   0.006168 \n",
      " 42    | 53.366446         |  53.386808          |   0.020361      |   0.003903 \n",
      " 44    | 53.373806         |  53.388126          |   0.014320      |   0.002470 \n",
      " 46    | 53.378905         |  53.388961          |   0.010056      |   0.001563 \n",
      " 48    | 53.382437         |  53.389489          |   0.007052      |   0.000989 \n",
      " 50    | 53.384884         |  53.389824          |   0.004940      |   0.000626 \n",
      " 52    | 53.386579         |  53.390035          |   0.003457      |   0.000396 \n",
      " 54    | 53.387753         |  53.390169          |   0.002416      |   0.000251 \n",
      " 56    | 53.388566         |  53.390254          |   0.001688      |   0.000159 \n",
      " 58    | 53.389130         |  53.390308          |   0.001178      |   0.000100 \n",
      " 60    | 53.389520         |  53.390341          |   0.000821      |   0.000064 \n",
      " 62    | 53.389790         |  53.390363          |   0.000573      |   0.000040 \n",
      " 64    | 53.389978         |  53.390377          |   0.000399      |   0.000025 \n"
     ]
    }
   ],
   "source": [
    "#metodo aproximado vs metodo analitico con calculo de error verdadero y error relativo porcentual aproximado\n",
    "#grafica solucion analitica y aproximada\n",
    "\n",
    "from math import *\n",
    "import matplotlib\n",
    "matplotlib.use(\"Qt4Agg\")\n",
    "from matplotlib import pyplot as plt\n",
    "\n",
    "\n",
    "n= input(\"INGRESE # DE CIFRAS SIGNIFICATIVAS \")  \n",
    "\n",
    "Es= 0.5*10**(2-n)  \n",
    "\n",
    "vel_act= 0      \n",
    "vel_ant= 0      \n",
    "sol_analitica= 0   \n",
    "sol_aprox= 0      \n",
    "Et= 0      \n",
    "Er= 0.0\n",
    "t= 0\n",
    "t_ant= 0           \n",
    "\n",
    "m= 68.1     \n",
    "c= 12.5    \n",
    "g= 9.8     \n",
    "\n",
    "valores_analitica= []  \n",
    "valores_aprox= []  \n",
    "\n",
    "print \"\\nERROR TOLERADO: \",Es,\"%\"  \n",
    "print \"{0:3s} |{1:10s} | {2:10s} | {3:10s} | {4:10s}\".format(\"TIEMPO\", \"SOLUCION ANALITICA\",\"SOLUCION APROXIMADA\",\"ERROR VERDADERO\",\"ERROR RELATIVO % APROX.\")\n",
    "\n",
    "\n",
    "while True:\n",
    "    sol_analitica= ((g*m)/c) * (1-exp(-(c/m)*t))    \n",
    "    vel_act= vel_ant + (g-(c/m)*vel_ant) * (t - t_ant)  \n",
    "\n",
    "    valores_analitica.append(sol_analitica)     \n",
    "    valores_aprox.append(vel_act)       \n",
    "    if vel_act!=0:\n",
    "        Er= ((vel_act - vel_ant)/vel_act)*100\n",
    "   \n",
    "    vel_ant= vel_act\n",
    "    sol_aprox= vel_act\n",
    "\n",
    "    Et= abs( sol_analitica - sol_aprox)\n",
    "\n",
    "    print \"{0:3d}    |{1:10f}         | {2:10f}          | {3:10f}      | {4:10f} \".format(t, sol_analitica,vel_act,Et,Er)\n",
    "\n",
    "\n",
    "    if Et < Es and t != 0:  \n",
    "        break\n",
    "\n",
    "    t_ant= t\n",
    "    t+=2       \n",
    "\n",
    "\n",
    "sol_analitica,= plt.plot(valores_analitica,\"b-\", label=\"Sol. Analitica\")\n",
    "sol_aprox,= plt.plot(valores_aprox,\"r-\", label= \"Sol. Aproximada\")\n",
    "plt.legend(handles=[sol_analitica, sol_aprox], loc= 4)\n",
    "plt.xlabel(\"Tiempo (s)\")\n",
    "plt.ylabel(\"Velocidad (m/s)\")\n",
    "plt.grid(True)\n",
    "plt.show()\n",
    "\n",
    "\n",
    "\n"
   ]
  },
  {
   "cell_type": "code",
   "execution_count": null,
   "metadata": {
    "collapsed": true
   },
   "outputs": [],
   "source": []
  },
  {
   "cell_type": "code",
   "execution_count": null,
   "metadata": {
    "collapsed": true
   },
   "outputs": [],
   "source": []
  }
 ],
 "metadata": {
  "kernelspec": {
   "display_name": "Python 2",
   "language": "python",
   "name": "python2"
  },
  "language_info": {
   "codemirror_mode": {
    "name": "ipython",
    "version": 2
   },
   "file_extension": ".py",
   "mimetype": "text/x-python",
   "name": "python",
   "nbconvert_exporter": "python",
   "pygments_lexer": "ipython2",
   "version": "2.7.10"
  }
 },
 "nbformat": 4,
 "nbformat_minor": 0
}
