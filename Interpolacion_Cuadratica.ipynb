{
 "cells": [
  {
   "cell_type": "code",
   "execution_count": 4,
   "metadata": {
    "collapsed": false
   },
   "outputs": [
    {
     "name": "stdout",
     "output_type": "stream",
     "text": [
      "[0.0, 0.6931471805599453, 1.0986122886681098, 1.3862943611198906, 1.6094379124341003, 1.791759469228055]\n"
     ]
    }
   ],
   "source": [
    "import math\n",
    "import matplotlib.pyplot as plt\n",
    "import numpy as np\n",
    "\n",
    "f = lambda x: math.log(x)\n",
    "\n",
    "\n",
    "def m(x0, x1):\n",
    "    fx0 = f(x0)\n",
    "    fx1 = f(x1)\n",
    "\n",
    "    return (fx1 - fx0) / (x1 - x0)\n",
    "\n",
    "\n",
    "def interpol_cua(x0, x1, x2, x):\n",
    "    fx0 = f(x0)\n",
    "    fx1 = f(x1)\n",
    "    fx2 = f(x2)\n",
    "\n",
    "    b0 = f(x0)\n",
    "    b1 = m(x0,x1)\n",
    "\n",
    "    b2 = (m(x1,x2) - m(x0,x1)) / (x2 - x0)\n",
    "\n",
    "    return b0 + b1 * (x - x0) + b2 * (x - x0) * (x - x1)\n",
    "\n",
    "\n",
    "x = range(1,7)       \n",
    "fx = []\n",
    "v_interpol_cua = []\n",
    "v_ep = np.arange(1,6,0.1)   \n",
    "fep = []    \n",
    "\n",
    "for xi in x:\n",
    "    fx.append(f(xi))\n",
    "    v_interpol_cua.append(interpol_cua(xi, xi+1, xi+2, xi))\n",
    "\n",
    "for i in v_ep:\n",
    "    fep.append(f(i))\n",
    "\n",
    "\n",
    "plt.figure(u\"Gráfica Interpolación Cuadrática\")\n",
    "plt.title(u\"Interpolación Cuadrática Ln x\", fontweight=\"bold\")\n",
    "plt.plot(x,fx, \"ro\", label= \"Ln(x) Discreto\")        \n",
    "plt.plot(x,v_interpol_cua, label=u\"Interpolación Cuadrática\", lw=1.5)         \n",
    "plt.plot(v_ep,fep, label=u\"Ln(x) Original\", lw=1.5)\n",
    "plt.legend(loc=4)\n",
    "plt.margins(y=.1, x=.1)\n",
    "plt.grid(True)\n",
    "plt.show()\n",
    "\n",
    "print v_interpol_cua"
   ]
  },
  {
   "cell_type": "code",
   "execution_count": null,
   "metadata": {
    "collapsed": true
   },
   "outputs": [],
   "source": []
  }
 ],
 "metadata": {
  "kernelspec": {
   "display_name": "Python 2",
   "language": "python",
   "name": "python2"
  },
  "language_info": {
   "codemirror_mode": {
    "name": "ipython",
    "version": 2
   },
   "file_extension": ".py",
   "mimetype": "text/x-python",
   "name": "python",
   "nbconvert_exporter": "python",
   "pygments_lexer": "ipython2",
   "version": "2.7.11"
  }
 },
 "nbformat": 4,
 "nbformat_minor": 0
}
