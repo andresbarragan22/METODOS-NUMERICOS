{
 "cells": [
  {
   "cell_type": "code",
   "execution_count": 4,
   "metadata": {
    "collapsed": false
   },
   "outputs": [
    {
     "name": "stdout",
     "output_type": "stream",
     "text": [
      "------- Interpolacion Polinomica (Newton) -------\n",
      "Ingrese el grado del polinomio a evaluar: 4\n",
      "[[0.0, 0.0, 0.0, 0.0, 0.0], [0.0, 0.0, 0.0, 0.0, 0.0], [0.0, 0.0, 0.0, 0.0, 0.0], [0.0, 0.0, 0.0, 0.0, 0.0], [0.0, 0.0, 0.0, 0.0, 0.0]]\n",
      "[0.0, 0.0, 0.0, 0.0, 0.0]\n",
      "Ingrese el valor de x: 6\n"
     ]
    },
    {
     "ename": "TypeError",
     "evalue": "cannot concatenate 'str' and 'int' objects",
     "output_type": "error",
     "traceback": [
      "\u001b[1;31m---------------------------------------------------------------------------\u001b[0m",
      "\u001b[1;31mTypeError\u001b[0m                                 Traceback (most recent call last)",
      "\u001b[1;32m<ipython-input-4-a709e48f4fe0>\u001b[0m in \u001b[0;36m<module>\u001b[1;34m()\u001b[0m\n\u001b[0;32m     14\u001b[0m \u001b[1;32mfor\u001b[0m \u001b[0mi\u001b[0m \u001b[1;32min\u001b[0m \u001b[0mrange\u001b[0m\u001b[1;33m(\u001b[0m\u001b[0mn\u001b[0m\u001b[1;33m)\u001b[0m\u001b[1;33m:\u001b[0m\u001b[1;33m\u001b[0m\u001b[0m\n\u001b[0;32m     15\u001b[0m     \u001b[0mx\u001b[0m \u001b[1;33m=\u001b[0m \u001b[0minput\u001b[0m\u001b[1;33m(\u001b[0m\u001b[1;34m\"Ingrese el valor de x: \"\u001b[0m\u001b[1;33m)\u001b[0m\u001b[1;33m\u001b[0m\u001b[0m\n\u001b[1;32m---> 16\u001b[1;33m     \u001b[0my\u001b[0m \u001b[1;33m=\u001b[0m \u001b[0minput\u001b[0m\u001b[1;33m(\u001b[0m\u001b[1;34m\"Ingrese el valor de f(\"\u001b[0m\u001b[1;33m+\u001b[0m\u001b[0mx\u001b[0m\u001b[1;33m+\u001b[0m\u001b[1;34m\"): \"\u001b[0m\u001b[1;33m)\u001b[0m\u001b[1;33m\u001b[0m\u001b[0m\n\u001b[0m\u001b[0;32m     17\u001b[0m     \u001b[0mvector\u001b[0m\u001b[1;33m[\u001b[0m\u001b[0mi\u001b[0m\u001b[1;33m]\u001b[0m\u001b[1;33m=\u001b[0m\u001b[0mfloat\u001b[0m\u001b[1;33m(\u001b[0m\u001b[0mx\u001b[0m\u001b[1;33m)\u001b[0m\u001b[1;33m\u001b[0m\u001b[0m\n\u001b[0;32m     18\u001b[0m     \u001b[0mmatriz\u001b[0m\u001b[1;33m[\u001b[0m\u001b[0mi\u001b[0m\u001b[1;33m]\u001b[0m\u001b[1;33m[\u001b[0m\u001b[1;36m0\u001b[0m\u001b[1;33m]\u001b[0m\u001b[1;33m=\u001b[0m\u001b[0mfloat\u001b[0m\u001b[1;33m(\u001b[0m\u001b[0my\u001b[0m\u001b[1;33m)\u001b[0m\u001b[1;33m\u001b[0m\u001b[0m\n",
      "\u001b[1;31mTypeError\u001b[0m: cannot concatenate 'str' and 'int' objects"
     ]
    }
   ],
   "source": [
    "n = int(input(\"Ingrese el grado del polinomio a evaluar: \"))+1\n",
    "\n",
    "matriz = [0.0] * n\n",
    "for i in range(n):\n",
    "    matriz[i] = [0.0] * n\n",
    "\n",
    "vector = [0.0] * n\n",
    "\n",
    "print (matriz)\n",
    "print (vector)\n",
    "for i in range(n):\n",
    "    x = input(\"Ingrese el valor de x: \")\n",
    "    y = input(\"Ingrese el valor de f(\"+x+\"): \")\n",
    "    vector[i]=float(x)\n",
    "    matriz[i][0]=float(y)\n",
    "\n",
    "print (vector)    \n",
    "print (matriz)\n",
    "\n",
    "punto_a_evaluar = float(input(\"Ingrese el punto a evaluar: \"))\n",
    "\n",
    "print (\"------------------------------\")\n",
    "\n",
    "\n",
    "for i in range(1,n):\n",
    "    for j in range(i,n):\n",
    "        print (\"i=\",i,\"    j=\",j)\n",
    "        print (\"(\",matriz[j][i-1],\"-\",matriz[j-1][i-1],\")/(\",vector[j],\"-\",vector[j-i],\")\")\n",
    "        matriz[j][i] = ( (matriz[j][i-1]-matriz[j-1][i-1]) / (vector[j]-vector[j-i]))\n",
    "        print (\"matriz[\",j,\"][\",i,\"] = \",(matriz[j][i-1]-matriz[j-1][i-1])/(vector[j]-vector[j-i]))\n",
    "\n",
    "print (\"------------------------------\")\n",
    "\n",
    "for i in range(n):\n",
    "    print (matriz[i])\n",
    "print (\"------------------------------\")\n",
    "\n",
    "\n",
    "aprx = 0\n",
    "mul = 1.0\n",
    "for i in range(n):\n",
    "    print (\"matriz[\",i,\"][\",i,\"]\",\"=\",matriz[i][i])\n",
    "    mul = matriz[i][i];\n",
    "    print (\"mul antes del ciclo j=\",mul)\n",
    "    for j in range(1,i+1):\n",
    "        mul = mul * (punto_a_evaluar - vector[j-1])\n",
    "        print (\"mul en el ciclo j=\",mul)\n",
    "    # print aprx\n",
    "    aprx = aprx + mul\n",
    "\n",
    "\n",
    "print (\"------------------------------\")\n",
    "print (\"El valor aproximado de f(\",punto_a_evaluar,\") es: \", aprx)"
   ]
  },
  {
   "cell_type": "code",
   "execution_count": null,
   "metadata": {
    "collapsed": true
   },
   "outputs": [],
   "source": []
  }
 ],
 "metadata": {
  "kernelspec": {
   "display_name": "Python 2",
   "language": "python",
   "name": "python2"
  },
  "language_info": {
   "codemirror_mode": {
    "name": "ipython",
    "version": 2
   },
   "file_extension": ".py",
   "mimetype": "text/x-python",
   "name": "python",
   "nbconvert_exporter": "python",
   "pygments_lexer": "ipython2",
   "version": "2.7.11"
  }
 },
 "nbformat": 4,
 "nbformat_minor": 0
}
