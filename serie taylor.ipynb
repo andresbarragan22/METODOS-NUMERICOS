{
 "cells": [
  {
   "cell_type": "code",
   "execution_count": 4,
   "metadata": {
    "collapsed": false
   },
   "outputs": [
    {
     "name": "stdout",
     "output_type": "stream",
     "text": [
      "ingresa el orden: 5\n",
      "despues de la cuarta derivada de la funcion es igual a 0\n"
     ]
    }
   ],
   "source": [
    "import math\n",
    "funcion = 0.0\n",
    "derivada = 0.0\n",
    "\n",
    "def funcion(x):\n",
    "    ecuacion = -0.1*(x**4)-0.15*(x**3)-0.5*(x**2)-0.25*x+1.2\n",
    "    \n",
    "def Aprox(x,orden):\n",
    "    aux=0\n",
    "    funcion = 0.0\n",
    "    while aux<=orden:\n",
    "        if aux == 0:\n",
    "            funcion=funcion-0.1*(x**4)-0.15*(x**3)-0.5*(x**2)-0.25*(x**1)+1.2\n",
    "            \n",
    "        elif aux == 1:\n",
    "            funcion=funcion-0.4*(x**3)-0.45*(x**2)-1*(x**1)-0.25\n",
    "            \n",
    "        elif aux == 2:\n",
    "            funcion=funcion+(-1.2*(x**2)-0.90*x-1)/2\n",
    "            \n",
    "        elif aux == 3:\n",
    "            funcion=funcion+(-2.4*x-0.90)/math.factorial(aux)\n",
    "            \n",
    "        elif aux == 4:\n",
    "            funcion=funcion+(-2.4)/math.factorial(aux)\n",
    "        aux = aux+1\n",
    "        print funcion\n",
    "    print \"la sumatoria de las derivadas de la funcion es: \" + str(funcion)\n",
    "        \n",
    "orden = input(\"ingresa el orden: \")\n",
    "if orden<=4:\n",
    "    Aprox(0,orden)\n",
    "else:\n",
    "    print \"despues de la cuarta derivada de la funcion es igual a \"+str(0)\n",
    "  "
   ]
  },
  {
   "cell_type": "code",
   "execution_count": null,
   "metadata": {
    "collapsed": true
   },
   "outputs": [],
   "source": []
  }
 ],
 "metadata": {
  "kernelspec": {
   "display_name": "Python 2",
   "language": "python",
   "name": "python2"
  },
  "language_info": {
   "codemirror_mode": {
    "name": "ipython",
    "version": 2
   },
   "file_extension": ".py",
   "mimetype": "text/x-python",
   "name": "python",
   "nbconvert_exporter": "python",
   "pygments_lexer": "ipython2",
   "version": "2.7.10"
  }
 },
 "nbformat": 4,
 "nbformat_minor": 0
}
