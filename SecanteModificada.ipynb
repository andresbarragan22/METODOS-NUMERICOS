{
 "cells": [
  {
   "cell_type": "code",
   "execution_count": 26,
   "metadata": {
    "collapsed": false
   },
   "outputs": [
    {
     "name": "stdout",
     "output_type": "stream",
     "text": [
      "iteracion | valor por funcion de secante modificado \n",
      "        0 |        0.537263 \n",
      "        1 |        0.567035 \n",
      "        2 |        0.567143 \n",
      "        3 |        0.567143 \n",
      "        4 |        0.567143 \n",
      "        5 |        0.567143 \n",
      "        6 |        0.567143 \n",
      "('valor de la raiz es: ', 0.5671432904097838)\n"
     ]
    }
   ],
   "source": [
    "\n",
    "import math\n",
    "i=0\n",
    "xf=0\n",
    "xi0=1\n",
    "d=0.01\n",
    "xf0=math.exp(-xi0)-xi0\n",
    "xfd=math.exp(-(xi0+d))-(xi0+d)\n",
    "print \"{0:3s} | {1:15s} \".format(\"iteracion\", \"valor por funcion de secante modificado\")\n",
    "while True:\n",
    "    xf=xi0-(d*(xf0))/(xfd-xf0)\n",
    "    if xf==xi0:\n",
    "        print(\"valor de la raiz es: \",xf)\n",
    "       \n",
    "        break\n",
    "    \n",
    "    xi0=xf\n",
    "    xf0=math.exp(-xi0)-xi0\n",
    "    xfd=math.exp(-(xi0+d))-(xi0+d)\n",
    "   \n",
    "    print \"{0:9d} | {1:15f} \".format(i, xf)\n",
    "    if i==100:\n",
    "        break\n",
    "    i=i+1"
   ]
  },
  {
   "cell_type": "code",
   "execution_count": null,
   "metadata": {
    "collapsed": true
   },
   "outputs": [],
   "source": []
  },
  {
   "cell_type": "code",
   "execution_count": null,
   "metadata": {
    "collapsed": true
   },
   "outputs": [],
   "source": []
  }
 ],
 "metadata": {
  "kernelspec": {
   "display_name": "Python 2",
   "language": "python",
   "name": "python2"
  },
  "language_info": {
   "codemirror_mode": {
    "name": "ipython",
    "version": 2
   },
   "file_extension": ".py",
   "mimetype": "text/x-python",
   "name": "python",
   "nbconvert_exporter": "python",
   "pygments_lexer": "ipython2",
   "version": "2.7.11"
  }
 },
 "nbformat": 4,
 "nbformat_minor": 0
}
